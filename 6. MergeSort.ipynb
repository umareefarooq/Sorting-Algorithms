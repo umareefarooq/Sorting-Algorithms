{
 "cells": [
  {
   "cell_type": "code",
   "execution_count": 2,
   "metadata": {},
   "outputs": [
    {
     "name": "stdout",
     "output_type": "stream",
     "text": [
      "The sorted array is :  [7, 13, 16, 19, 22, 22, 27, 32, 34, 67, 88, 98, 99, 111, 120, 280]\n"
     ]
    }
   ],
   "source": [
    "#merge sort\n",
    "\n",
    "def MergeSort(array):\n",
    "    if len(array) > 1:\n",
    "        mid = len(array) // 2\n",
    "        left = array[:mid]\n",
    "        right = array[mid:]\n",
    "\n",
    "        # Recursive call on each half\n",
    "        MergeSort(left)\n",
    "        MergeSort(right)\n",
    "\n",
    "        # Two iterators for traversing the two halves\n",
    "        i = 0\n",
    "        j = 0\n",
    "        \n",
    "        # Iterator for the main list\n",
    "        k = 0\n",
    "        \n",
    "        while i < len(left) and j < len(right):\n",
    "            if left[i] < right[j]:\n",
    "              # The value from the left half has been used\n",
    "              array[k] = left[i]\n",
    "              # Move the iterator forward\n",
    "              i += 1\n",
    "            else:\n",
    "                array[k] = right[j]\n",
    "                j += 1\n",
    "            # Move to the next slot\n",
    "            k += 1\n",
    "\n",
    "        # For all the remaining values\n",
    "        while i < len(left):\n",
    "            array[k] = left[i]\n",
    "            i += 1\n",
    "            k += 1\n",
    "\n",
    "        while j < len(right):\n",
    "            array[k]=right[j]\n",
    "            j += 1\n",
    "            k += 1\n",
    "\n",
    "array = [16, 22, 13, 34, 111, 19, 7, 32, 67, 98, 120, 88, 22, 27, 280, 99]\n",
    "MergeSort(array)\n",
    "print(\"The sorted array is : \" , array)"
   ]
  },
  {
   "cell_type": "code",
   "execution_count": null,
   "metadata": {},
   "outputs": [],
   "source": []
  }
 ],
 "metadata": {
  "kernelspec": {
   "display_name": "Python 3",
   "language": "python",
   "name": "python3"
  },
  "language_info": {
   "codemirror_mode": {
    "name": "ipython",
    "version": 3
   },
   "file_extension": ".py",
   "mimetype": "text/x-python",
   "name": "python",
   "nbconvert_exporter": "python",
   "pygments_lexer": "ipython3",
   "version": "3.8.5"
  }
 },
 "nbformat": 4,
 "nbformat_minor": 4
}
