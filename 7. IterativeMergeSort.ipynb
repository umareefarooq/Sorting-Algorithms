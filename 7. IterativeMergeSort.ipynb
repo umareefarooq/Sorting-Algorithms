{
 "cells": [
  {
   "cell_type": "code",
   "execution_count": 7,
   "metadata": {},
   "outputs": [
    {
     "name": "stdout",
     "output_type": "stream",
     "text": [
      "Original array: [5, 7, -9, 3, -4, 2, 8]\n",
      "Modified array: [-9, -4, 2, 3, 5, 7, 8]\n"
     ]
    }
   ],
   "source": [
    "\n",
    "# Merge two sorted sublists `A[frm…mid]` and `A[mid+1…to]`\n",
    "def merge(A, temp, frm, mid, to):\n",
    " \n",
    "    k = frm\n",
    "    i = frm\n",
    "    j = mid + 1\n",
    " \n",
    "    # loop till no elements are left in the left and right runs\n",
    "    while i <= mid and j <= to:\n",
    "        if A[i] < A[j]:\n",
    "            temp[k] = A[i]\n",
    "            i = i + 1\n",
    "        else:\n",
    "            temp[k] = A[j]\n",
    "            j = j + 1\n",
    " \n",
    "        k = k + 1\n",
    " \n",
    "    # copy remaining elements\n",
    "    while i < len(array) and i <= mid:\n",
    "        temp[k] = array[i]\n",
    "        k = k + 1\n",
    "        i = i + 1\n",
    " \n",
    "    ''' no need to copy the second half (since the remaining items\n",
    "        are already in their correct position in the temporary array) '''\n",
    " \n",
    "    # copy back to the original list to reflect sorted order\n",
    "    for i in range(frm, to + 1):\n",
    "        array[i] = temp[i]\n",
    " \n",
    " \n",
    "# Iteratively sort sublist `A[low…high]` using a temporary list\n",
    "def MergeSort(array):\n",
    " \n",
    "    low = 0\n",
    "    high = len(array) - 1\n",
    " \n",
    "    # sort list `A` using a temporary list `temp`\n",
    "    temp = array.copy()\n",
    " \n",
    "    # divide the list into blocks of size `m`\n",
    "    # m = [1, 2, 4, 8, 16…]\n",
    " \n",
    "    m = 1\n",
    "    while m <= high - low:\n",
    " \n",
    "        # for m = 1, i = [0, 2, 4, 6, 8…]\n",
    "        # for m = 2, i = [0, 4, 8, 12…]\n",
    "        # for m = 4, i = [0, 8, 16…]\n",
    "        # …\n",
    " \n",
    "        for i in range(low, high, 2*m):\n",
    "            frm = i\n",
    "            mid = i + m - 1\n",
    "            to = min(i + 2*m - 1, high)\n",
    "            merge(array, temp, frm, mid, to)\n",
    " \n",
    "        m = 2*m\n",
    " \n",
    " \n",
    "# Iterative implementation of merge sort\n",
    "if __name__ == '__main__':\n",
    " \n",
    "    A = [5, 7, -9, 3, -4, 2, 8]\n",
    " \n",
    "    print(\"Original array:\", A)\n",
    "    MergeSort(A)\n",
    "    print(\"Modified array:\", A)\n",
    "    \n",
    "array = [16, 22, 13, 34, 111, 19, 7, 32, 67, 98, 120, 88, 22, 27, 280, 99]\n",
    "MergeSort(array)\n",
    "print(\"The sorted array is : \" , array)"
   ]
  },
  {
   "cell_type": "code",
   "execution_count": null,
   "metadata": {},
   "outputs": [],
   "source": []
  }
 ],
 "metadata": {
  "kernelspec": {
   "display_name": "Python 3",
   "language": "python",
   "name": "python3"
  },
  "language_info": {
   "codemirror_mode": {
    "name": "ipython",
    "version": 3
   },
   "file_extension": ".py",
   "mimetype": "text/x-python",
   "name": "python",
   "nbconvert_exporter": "python",
   "pygments_lexer": "ipython3",
   "version": "3.8.5"
  }
 },
 "nbformat": 4,
 "nbformat_minor": 4
}
