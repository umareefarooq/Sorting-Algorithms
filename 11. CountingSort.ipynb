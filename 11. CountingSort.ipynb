{
 "cells": [
  {
   "cell_type": "code",
   "execution_count": 16,
   "metadata": {
    "scrolled": true
   },
   "outputs": [
    {
     "name": "stdout",
     "output_type": "stream",
     "text": [
      "[7, 13, 16, 19, 22, 22, 27, 32, 34, 67, 88, 98, 99, 111, 120, 280]\n"
     ]
    }
   ],
   "source": [
    "#counting sort\n",
    "\n",
    "def CountSort(array1, max_val):\n",
    "    m = max_val + 1\n",
    "    count = [0] * m                \n",
    "    \n",
    "    for a in array1:\n",
    "    # count occurences\n",
    "        count[a] += 1             \n",
    "    i = 0\n",
    "    for a in range(m):            \n",
    "        for c in range(count[a]):  \n",
    "            array1[i] = a\n",
    "            i += 1\n",
    "    return array1\n",
    "\n",
    "print(CountSort( [16, 22, 13, 34, 111, 19, 7, 32, 67, 98, 120, 88, 22, 27, 280, 99], 280 ))\n",
    "\n"
   ]
  },
  {
   "cell_type": "code",
   "execution_count": null,
   "metadata": {},
   "outputs": [],
   "source": []
  }
 ],
 "metadata": {
  "kernelspec": {
   "display_name": "Python 3",
   "language": "python",
   "name": "python3"
  },
  "language_info": {
   "codemirror_mode": {
    "name": "ipython",
    "version": 3
   },
   "file_extension": ".py",
   "mimetype": "text/x-python",
   "name": "python",
   "nbconvert_exporter": "python",
   "pygments_lexer": "ipython3",
   "version": "3.8.5"
  }
 },
 "nbformat": 4,
 "nbformat_minor": 4
}
